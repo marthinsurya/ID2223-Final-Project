{
 "cells": [
  {
   "cell_type": "markdown",
   "id": "86c7881d",
   "metadata": {
    "tags": []
   },
   "source": [
    "# <span style=\"font-width:bold; font-size: 3rem; color:#333;\">Training Pipeline</span>\n",
    "\n",
    "## 🗒️ This notebook is divided into the following sections:\n",
    "\n",
    "1. Select features for the model and create a Feature View with the selected features\n",
    "2. Create training data using the feature view\n",
    "3. Train model\n",
    "4. Evaluate model performance\n",
    "5. Save model to model registry"
   ]
  },
  {
   "cell_type": "markdown",
   "id": "a498f102",
   "metadata": {},
   "source": [
    "### <span style='color:#ff5f27'> 📝 Imports"
   ]
  },
  {
   "cell_type": "code",
   "execution_count": 1,
   "id": "7b585039-6e16-4d63-bc22-f206c747920d",
   "metadata": {},
   "outputs": [],
   "source": [
    "#pip install xgboost\n",
    "#pip install scikit-learn"
   ]
  },
  {
   "cell_type": "code",
   "execution_count": 2,
   "id": "fbb7e97d",
   "metadata": {
    "tags": []
   },
   "outputs": [],
   "source": [
    "import pandas as pd\n",
    "import numpy as np\n",
    "import os\n",
    "from sklearn.model_selection import train_test_split\n",
    "from sklearn.preprocessing import StandardScaler, LabelEncoder\n",
    "from sklearn.metrics import accuracy_score, classification_report, confusion_matrix\n",
    "from sklearn.ensemble import RandomForestClassifier, GradientBoostingClassifier\n",
    "from sklearn.svm import SVC\n",
    "from xgboost import XGBClassifier\n",
    "from sklearn.model_selection import cross_val_score\n",
    "from util.helper import * \n",
    "import util.helper as helpfun"
   ]
  },
  {
   "cell_type": "markdown",
   "id": "610de819",
   "metadata": {},
   "source": [
    "## <span style=\"color:#ff5f27;\"> Prepare training features</span>"
   ]
  },
  {
   "cell_type": "code",
   "execution_count": 3,
   "id": "be0f8518",
   "metadata": {},
   "outputs": [
    {
     "name": "stdout",
     "output_type": "stream",
     "text": [
      "Current directory: C:\\Users\\marth\\OneDrive - KTH\\[Y1] Period 2\\ID2223 Scalable Machine Learning and Deep Learning\\Projects\\Final Pj\\ID2223-Final-Project\n"
     ]
    }
   ],
   "source": [
    "# Get current working directory\n",
    "current_dir = os.getcwd()\n",
    "print(f\"Current directory: {current_dir}\")"
   ]
  },
  {
   "cell_type": "code",
   "execution_count": 4,
   "id": "72daba1f",
   "metadata": {},
   "outputs": [],
   "source": [
    "# Construct path\n",
    "data_path = os.path.join(current_dir, 'util', 'data', 'feature_eng_stats.csv')\n",
    "training_df = pd.read_csv(data_path)\n",
    "#print(training_df)"
   ]
  },
  {
   "cell_type": "code",
   "execution_count": 5,
   "id": "4766ecf3-742f-4de8-8b29-d83e89c122e5",
   "metadata": {},
   "outputs": [],
   "source": [
    "#check_dataframe_types(training_df)"
   ]
  },
  {
   "cell_type": "code",
   "execution_count": 6,
   "id": "d10df898-3053-492f-b8ef-30f80d2a0b4f",
   "metadata": {},
   "outputs": [
    {
     "name": "stdout",
     "output_type": "stream",
     "text": [
      "Are all float values NaN? True\n",
      "Number of float values: 43\n",
      "Number of NaN values: 43\n"
     ]
    }
   ],
   "source": [
    "#Check float Value vs NaN\n",
    "column_check = ['champion']\n",
    "\n",
    "for col in column_check:\n",
    "    check_nan_float(training_df, col)"
   ]
  },
  {
   "cell_type": "code",
   "execution_count": 7,
   "id": "c1fea7f5-9c7d-417a-89e3-d094506b4bd1",
   "metadata": {},
   "outputs": [
    {
     "name": "stdout",
     "output_type": "stream",
     "text": [
      "\n",
      "Remaining NaN in champion column: 0\n"
     ]
    }
   ],
   "source": [
    "# Remove rows where champion is NaN\n",
    "training_df = training_df.dropna(subset=['champion'])\n",
    "\n",
    "# Verify no more NaN in champion column\n",
    "print(f\"\\nRemaining NaN in champion column: {training_df['champion'].isna().sum()}\")"
   ]
  },
  {
   "cell_type": "code",
   "execution_count": 12,
   "id": "0d04b075-7c81-4dcb-9b8a-77172129de2c",
   "metadata": {},
   "outputs": [
    {
     "name": "stdout",
     "output_type": "stream",
     "text": [
      "Note: Some columns were not found in DataFrame: {'oppmates1', 'teammates1', 'teammates4', 'player_id', 'oppmates3', 'region_profile', 'oppmates4', 'oppmates2', 'teammates3', 'teammates2', 'oppmates5'}\n",
      "      champion  region      date  level  team  result  match_length_mins  \\\n",
      "0         None     NaN  1.736014   14.0   NaN       0              28.97   \n",
      "1         None     NaN  1.736012    7.0   NaN       0              16.03   \n",
      "2         None     NaN  1.736010   14.0   NaN       1              21.35   \n",
      "3         None     NaN  1.736009   18.0   NaN       1              35.12   \n",
      "4         None     NaN  1.735932   15.0   NaN       0              27.55   \n",
      "...        ...     ...       ...    ...   ...     ...                ...   \n",
      "10326     None     NaN  1.734516   16.0   NaN       1              30.30   \n",
      "10327     None     NaN  1.734514    9.0   NaN       0              15.18   \n",
      "10328     None     NaN  1.734437   15.0   NaN       1              23.15   \n",
      "10329     None     NaN  1.734338   15.0   NaN       1              27.58   \n",
      "10330     None     NaN  1.734178   16.0   NaN       1              28.47   \n",
      "\n",
      "       kill  death  assist  ...      Yone    Yorick  Yuumi       Zac  \\\n",
      "0         1      9       6  ...  0.671335  0.033146    0.0  0.113692   \n",
      "1         0      2       1  ...  0.671335  0.033146    0.0  0.113692   \n",
      "2         3      0       5  ...  0.671335  0.033146    0.0  0.113692   \n",
      "3         4      6       6  ...  0.000000  0.033146    0.0  0.113692   \n",
      "4         5      7      13  ...  0.671335  0.033146    0.0  0.113692   \n",
      "...     ...    ...     ...  ...       ...       ...    ...       ...   \n",
      "10326    19      3       9  ...  1.266163  0.033146    0.0  0.113692   \n",
      "10327     0      5       0  ...  1.139547  0.033146    0.0  0.113692   \n",
      "10328     5      2       7  ...  1.266163  0.033146    0.0  0.113692   \n",
      "10329     4      7       6  ...  1.266163  0.029831    0.0  0.113692   \n",
      "10330    14      1      12  ...  1.266163  0.033146    0.0  0.113692   \n",
      "\n",
      "            Zed      Zeri     Ziggs    Zilean       Zoe      Zyra  \n",
      "0      0.000000  0.071530  0.090386  0.057349  0.165442  0.098459  \n",
      "1      0.000000  0.071530  0.090386  0.057349  0.165442  0.109399  \n",
      "2      0.000000  0.071530  0.090386  0.057349  0.148898  0.109399  \n",
      "3      0.000000  0.071530  0.090386  0.057349  0.148898  0.000000  \n",
      "4      0.000000  0.071530  0.090386  0.057349  0.165442  0.109399  \n",
      "...         ...       ...       ...       ...       ...       ...  \n",
      "10326  0.035552  0.071530  0.081347  0.057349  0.068299  0.109399  \n",
      "10327  0.035552  0.071530  0.090386  0.057349  0.068299  0.109399  \n",
      "10328  0.035552  0.071530  0.000000  0.057349  0.068299  0.109399  \n",
      "10329  0.035552  0.064377  0.090386  0.057349  0.068299  0.098459  \n",
      "10330  0.035552  0.071530  0.090386  0.057349  0.068299  0.109399  \n",
      "\n",
      "[10288 rows x 337 columns]\n"
     ]
    }
   ],
   "source": [
    "#Clean table and convert string to num00\n",
    "training_df = convert_training_df(training_df)\n",
    "print(training_df)"
   ]
  },
  {
   "cell_type": "code",
   "execution_count": 11,
   "id": "d4d80151-df9c-403c-a736-34fbc057ac0d",
   "metadata": {},
   "outputs": [
    {
     "name": "stdout",
     "output_type": "stream",
     "text": [
      "Object columns details:\n",
      "--------------------------------------------------\n"
     ]
    }
   ],
   "source": [
    "# Get list of object columns and their details\n",
    "object_cols = training_df.select_dtypes(include=['object']).columns\n",
    "\n",
    "print(\"Object columns details:\")\n",
    "print(\"-\" * 50)\n",
    "for col in object_cols:\n",
    "    unique_values = training_df[col].nunique()\n",
    "    sample_values = training_df[col].dropna().sample(min(3, unique_values)).tolist()\n",
    "    \n",
    "    print(f\"\\nColumn: {col}\")\n",
    "    print(f\"Unique values count: {unique_values}\")\n",
    "    print(f\"Sample values: {sample_values}\")\n",
    "    print(f\"Type of values: {training_df[col].apply(type).unique()}\")"
   ]
  },
  {
   "cell_type": "markdown",
   "id": "9a96454a",
   "metadata": {},
   "source": [
    "--- \n",
    "\n",
    "## <span style=\"color:#ff5f27;\"> 🖍 Feature View Creation and Retrieving </span>"
   ]
  },
  {
   "cell_type": "code",
   "execution_count": null,
   "id": "8542a8d3",
   "metadata": {},
   "outputs": [],
   "source": [
    "selected_features_new = air_quality_fg_new.select([\n",
    "    # PM2.5 target and its engineered features\n",
    "    'pm25',\n",
    "    'pm25_rolling_mean_3d', 'pm25_rolling_std_3d', 'pm25_rolling_max_3d',\n",
    "    'pm25_rolling_mean_7d', 'pm25_rolling_std_7d', 'pm25_rolling_max_7d',\n",
    "    'pm25_lag_1d', 'pm25_lag_2d', 'pm25_lag_3d',\n",
    "    'pm25_diff_1d', 'pm25_pct_change',\n",
    "    'pm25_ema_3d', 'pm25_ema_7d',\n",
    "    'pm25_percentile',\n",
    "    'pm25_skew_7d',\n",
    "    'pm25_trend_3d', 'pm25_trend_7d', 'pm25_trend_14d',\n",
    "    'pm25_volatility_3d','pm25_volatility_7d', 'pm25_volatility_14d',\n",
    "    'pm25_zscore',\n",
    "    'day_of_week', 'is_weekend', 'month', 'month_cos', 'month_sin',  \n",
    "    'city'  # Keep city for joining\n",
    "]).join(\n",
    "    weather_fg_new.select([\n",
    "        # Weather features\n",
    "        'date', 'temperature_2m_mean', 'precipitation_sum', 'wind_speed_10m_max', 'wind_direction_10m_dominant',\n",
    "        'temperature_2m_mean_rolling_mean_3d', 'precipitation_sum_rolling_mean_3d', 'wind_speed_10m_max_rolling_mean_3d',\n",
    "        'temp_wind_interaction', 'temp_precip_interaction', 'temp_wind_precip',\n",
    "        'wind_direction_sin', 'wind_direction_cos', 'wind_efficiency',\n",
    "        'high_temp_low_wind', \n",
    "        'city'\n",
    "    ]),\n",
    "    on=['city']\n",
    ")\n",
    "\n",
    "selected_features_new.show(10)"
   ]
  },
  {
   "cell_type": "markdown",
   "id": "e24e7d24",
   "metadata": {},
   "source": [
    "### Feature Views\n",
    "\n",
    "`Feature Views` are selections of features from different **Feature Groups** that make up the input and output API (or schema) for a model. A **Feature Views** can create **Training Data** and also be used in Inference to retrieve inference data.\n",
    "\n",
    "The Feature Views allows a schema in form of a query with filters, defining a model target feature/label and additional transformation functions (declarative feature encoding).\n",
    "\n",
    "In order to create Feature View we can use `FeatureStore.get_or_create_feature_view()` method.\n",
    "\n",
    "You can specify the following parameters:\n",
    "\n",
    "- `name` - name of a feature group.\n",
    "\n",
    "- `version` - version of a feature group.\n",
    "\n",
    "- `labels`- our target variable.\n",
    "\n",
    "- `transformation_functions` - declarative feature encoding (not used here)\n",
    "\n",
    "- `query` - selected features/labels for the model "
   ]
  },
  {
   "cell_type": "code",
   "execution_count": null,
   "id": "1e9d3b7a",
   "metadata": {},
   "outputs": [],
   "source": [
    "feature_view_new = fs.get_or_create_feature_view(\n",
    "    name='air_quality_fv_improved',\n",
    "    description=\"weather features with air quality as the target\",\n",
    "    version=1,\n",
    "    labels=['pm25'],\n",
    "    query=selected_features_new,\n",
    ")\n",
    "\n",
    "feature_view_new"
   ]
  },
  {
   "cell_type": "markdown",
   "id": "707ab9f4",
   "metadata": {},
   "source": [
    "## <span style=\"color:#ff5f27;\">🪝 Split the training data into train/test data sets </span>\n",
    "\n",
    "We use a time-series split here, with training data before this date `start_date_test_data` and test data after this date"
   ]
  },
  {
   "cell_type": "code",
   "execution_count": null,
   "id": "7c79be00",
   "metadata": {},
   "outputs": [],
   "source": [
    "start_date_validation_data = \"2023-09-19\" #60%\n",
    "start_date_test_data = \"2024-04-16\" #20%\n",
    "# Convert string to datetime object\n",
    "valid_start = datetime.strptime(start_date_validation_data, \"%Y-%m-%d\")\n",
    "test_start = datetime.strptime(start_date_test_data, \"%Y-%m-%d\")"
   ]
  },
  {
   "cell_type": "code",
   "execution_count": null,
   "id": "1af43a52",
   "metadata": {},
   "outputs": [],
   "source": [
    "X_train, X_validation, y_train, y_validation = feature_view_new.train_test_split(\n",
    "    test_start=valid_start\n",
    ")\n",
    "\n",
    "X_train_and_valid, X_test, y_train_and_valid, y_test = feature_view_new.train_test_split(\n",
    "    test_start=test_start\n",
    ")"
   ]
  },
  {
   "cell_type": "code",
   "execution_count": null,
   "id": "d6ccd92b",
   "metadata": {},
   "outputs": [],
   "source": [
    "X_train"
   ]
  },
  {
   "cell_type": "code",
   "execution_count": null,
   "id": "ddce1066-c35b-4f8b-9998-4d7426ba8687",
   "metadata": {},
   "outputs": [],
   "source": [
    "X_validation"
   ]
  },
  {
   "cell_type": "code",
   "execution_count": null,
   "id": "bbbb2ea2-c2c1-4b5b-8d5a-b5db55770613",
   "metadata": {},
   "outputs": [],
   "source": [
    "X_test"
   ]
  },
  {
   "cell_type": "code",
   "execution_count": null,
   "id": "b728eb10",
   "metadata": {},
   "outputs": [],
   "source": [
    "# Drop the index columns - 'date' (event_time) and 'city' (primary key)\n",
    "\n",
    "train_features = X_train.drop(['date', 'city'], axis=1)\n",
    "validation_features = X_validation.drop(['date', 'city'], axis=1)\n",
    "test_features = X_test.drop(['date', 'city'], axis=1)\n",
    "\n",
    "validation_features"
   ]
  },
  {
   "cell_type": "code",
   "execution_count": null,
   "id": "70bed512",
   "metadata": {},
   "outputs": [],
   "source": [
    "y_train"
   ]
  },
  {
   "cell_type": "code",
   "execution_count": null,
   "id": "fd3ee806-0051-4380-aef0-6e8e45365921",
   "metadata": {},
   "outputs": [],
   "source": [
    "y_test"
   ]
  },
  {
   "cell_type": "markdown",
   "id": "be2f7b68",
   "metadata": {},
   "source": [
    "The `Feature View` is now saved in Hopsworks and you can retrieve it using `FeatureStore.get_feature_view(name='...', version=1)`."
   ]
  },
  {
   "cell_type": "markdown",
   "id": "20b12d6a",
   "metadata": {},
   "source": [
    "---"
   ]
  },
  {
   "cell_type": "markdown",
   "id": "0c46611b",
   "metadata": {},
   "source": [
    "## <span style=\"color:#ff5f27;\">🧬 Modeling</span>\n",
    "\n",
    "We will train a regression model to predict pm25 using our 4 features (wind_speed, wind_dir, temp, precipitation)"
   ]
  },
  {
   "cell_type": "code",
   "execution_count": null,
   "id": "8be358ed",
   "metadata": {
    "tags": []
   },
   "outputs": [],
   "source": [
    "xgb_regressor = XGBRegressor(\n",
    "    max_depth=3,                # Further reduced to limit model complexity\n",
    "    learning_rate=0.005,        # Even smaller learning rate for better generalization\n",
    "    n_estimators=3000,          # Increased to compensate for smaller learning rate\n",
    "    subsample=0.6,              # Further reduced to increase randomization\n",
    "    colsample_bytree=0.6,       # Further reduced to increase randomization\n",
    "    min_child_weight=10,        # Increased to require more observations per leaf\n",
    "    reg_alpha=0.5,              # Increased L1 regularization\n",
    "    reg_lambda=2.0,             # Increased L2 regularization\n",
    "    gamma=0.4,                  # Increased minimum loss reduction\n",
    "    random_state=42\n",
    ")\n",
    "\n",
    "# Fit with more aggressive early stopping\n",
    "xgb_regressor.fit(\n",
    "    train_features, \n",
    "    y_train,\n",
    "    eval_set=[(train_features, y_train), (validation_features, y_validation)],\n",
    "    early_stopping_rounds=50,    # More aggressive early stopping\n",
    "    eval_metric='rmse',\n",
    "    verbose=100\n",
    ")"
   ]
  },
  {
   "cell_type": "code",
   "execution_count": null,
   "id": "18e1beaa",
   "metadata": {},
   "outputs": [],
   "source": [
    "# Predicting target values on the test set\n",
    "y_pred = xgb_regressor.predict(test_features)\n",
    "\n",
    "# Calculating Mean Squared Error (MSE) using sklearn\n",
    "mse = mean_squared_error(y_test.iloc[:,0], y_pred)\n",
    "print(\"MSE:\", mse)\n",
    "\n",
    "# Calculating R squared using sklearn\n",
    "r2 = r2_score(y_test.iloc[:,0], y_pred)\n",
    "print(\"R squared:\", r2)"
   ]
  },
  {
   "cell_type": "code",
   "execution_count": null,
   "id": "cc3a5c88-9de1-4d1b-869e-5b2274ce2e3a",
   "metadata": {},
   "outputs": [],
   "source": [
    "def evaluate_model(X, y, set_name):\n",
    "    predictions = xgb_regressor.predict(X)\n",
    "    mse = mean_squared_error(y, predictions)\n",
    "    rmse = np.sqrt(mse)\n",
    "    r2 = r2_score(y, predictions)\n",
    "    print(f\"\\n{set_name} Metrics:\")\n",
    "    print(f\"MSE: {mse:.2f}\")\n",
    "    print(f\"RMSE: {rmse:.2f}\")\n",
    "    print(f\"R2: {r2:.4f}\")\n",
    "    return predictions\n",
    "\n",
    "# Evaluate on all sets\n",
    "train_pred = evaluate_model(train_features, y_train, \"Training\")\n",
    "val_pred = evaluate_model(validation_features, y_validation, \"Validation\")\n",
    "test_pred = evaluate_model(test_features, y_test, \"Test\")\n",
    "\n",
    "# Create the time series plot\n",
    "plt.figure(figsize=(15, 5))\n",
    "\n",
    "# Plot training data and predictions\n",
    "plt.plot(y_train.index, y_train.values, label='Actual (Train)', alpha=0.5)\n",
    "plt.plot(y_train.index, train_pred, label='Predicted (Train)', alpha=0.5)\n",
    "\n",
    "# Plot validation data and predictions\n",
    "plt.plot(y_validation.index, y_validation.values, label='Actual (Val)', alpha=0.5)\n",
    "plt.plot(y_validation.index, val_pred, label='Predicted (Val)', alpha=0.5)\n",
    "\n",
    "# Plot test data and predictions\n",
    "plt.plot(y_test.index, y_test.values, label='Actual (Test)', alpha=0.5)\n",
    "plt.plot(y_test.index, test_pred, label='Predicted (Test)', alpha=0.5)\n",
    "\n",
    "# Customize the plot\n",
    "plt.title('PM2.5 Predictions vs Actual')\n",
    "plt.xlabel('Date')\n",
    "plt.ylabel('PM2.5')\n",
    "plt.legend(bbox_to_anchor=(1.05, 1), loc='upper left')\n",
    "plt.tight_layout()\n",
    "plt.show()\n",
    "\n",
    "# Optional: Add feature importance plot\n",
    "importance_df = pd.DataFrame({\n",
    "    'feature': train_features.columns,\n",
    "    'importance': xgb_regressor.feature_importances_\n",
    "}).sort_values('importance', ascending=False)\n",
    "\n",
    "plt.figure(figsize=(10, 4))\n",
    "plt.bar(range(len(importance_df['importance'][:10])), importance_df['importance'][:10])\n",
    "plt.xticks(range(len(importance_df['feature'][:10])), importance_df['feature'][:10], rotation=45, ha='right')\n",
    "plt.title('Top 10 Feature Importance')\n",
    "plt.tight_layout()\n",
    "plt.show()"
   ]
  },
  {
   "cell_type": "code",
   "execution_count": null,
   "id": "358362cc-923c-47bf-a410-2d754c585538",
   "metadata": {},
   "outputs": [],
   "source": [
    "#pip install shap"
   ]
  },
  {
   "cell_type": "code",
   "execution_count": null,
   "id": "cc954f08-d27c-4a85-80dd-48c275b29b3c",
   "metadata": {
    "scrolled": true
   },
   "outputs": [],
   "source": [
    "import shap\n",
    "\n",
    "explainer = shap.Explainer(xgb_regressor)\n",
    "shap_values = explainer(train_features)\n",
    "shap.summary_plot(shap_values, train_features)\n",
    "\n",
    "# Force plot for the first observation\n",
    "shap.force_plot(\n",
    "    explainer.expected_value,     # Scalar expected value\n",
    "    shap_values.values[0, :],     # SHAP values for the first sample\n",
    "    train_features.iloc[0, :]     # Feature values for the first sample\n",
    ")\n",
    "\n",
    "# Dependence plot for a specific feature\n",
    "#shap.dependence_plot(\n",
    "#    \"pm25_rolling_mean_3d\", \n",
    "#    shap_values.values, \n",
    "#    train_features\n",
    "#)\n",
    "\n",
    "# Feature importance DataFrame\n",
    "shap_importance = pd.DataFrame({\n",
    "    'feature': train_features.columns,\n",
    "    'mean_abs_shap': np.abs(shap_values.values).mean(axis=0)\n",
    "}).sort_values(by='mean_abs_shap', ascending=False)\n",
    "\n",
    "shap_importance.tail(20)\n",
    "\n",
    "\n"
   ]
  },
  {
   "cell_type": "code",
   "execution_count": null,
   "id": "cf39dc2c-60d8-459e-b865-28b7d0ec7d0b",
   "metadata": {},
   "outputs": [],
   "source": [
    "#top_features = shap_importance['feature'][:20]  # Retain top 20 features\n",
    "\n",
    "#train_features_trimmed = train_features[top_features]\n",
    "#validation_features_trimmed = validation_features[top_features]\n",
    "#test_features_trimmed = test_features[top_features]\n",
    "\n",
    "#train_features_trimmed"
   ]
  },
  {
   "cell_type": "code",
   "execution_count": null,
   "id": "70823960-aeb0-4b82-b272-77d736867264",
   "metadata": {},
   "outputs": [],
   "source": [
    "# Predicting target values on the test set\n",
    "#y_pred = xgb_regressor_trimmed.predict(test_features_trimmed)\n",
    "\n",
    "# Calculating Mean Squared Error (MSE) using sklearn\n",
    "#mse_trimmed = mean_squared_error(y_test.iloc[:,0], y_pred)\n",
    "#print(\"MSE:\", mse)\n",
    "\n",
    "# Calculating R squared using sklearn\n",
    "#r2_trimmed = r2_score(y_test.iloc[:,0], y_pred)\n",
    "#print(\"R squared:\", r2)"
   ]
  },
  {
   "cell_type": "code",
   "execution_count": null,
   "id": "da032a0b-ef8b-43fa-89b7-cb5914eb1037",
   "metadata": {},
   "outputs": [],
   "source": [
    "#xgb_regressor_trimmed = XGBRegressor(\n",
    "#    max_depth=3,                # Further reduced to limit model complexity\n",
    "#    learning_rate=0.005,        # Even smaller learning rate for better generalization\n",
    "#   n_estimators=3000,          # Increased to compensate for smaller learning rate\n",
    "#    subsample=0.6,              # Further reduced to increase randomization\n",
    "#    colsample_bytree=0.6,       # Further reduced to increase randomization\n",
    "#   min_child_weight=10,        # Increased to require more observations per leaf\n",
    "#    reg_alpha=0.5,              # Increased L1 regularization\n",
    "#    reg_lambda=2.0,             # Increased L2 regularization\n",
    "#    gamma=0.4,                  # Increased minimum loss reduction\n",
    "#    random_state=42\n",
    "#)\n",
    "\n",
    "# Fit with more aggressive early stopping\n",
    "#xgb_regressor_trimmed.fit(\n",
    "#    train_features_trimmed, \n",
    "#    y_train,\n",
    "#    eval_set=[(train_features_trimmed, y_train), (validation_features_trimmed, y_validation)],\n",
    "#    early_stopping_rounds=50,    # More aggressive early stopping\n",
    "#    eval_metric='rmse',\n",
    "#    verbose=100\n",
    "#)"
   ]
  },
  {
   "cell_type": "code",
   "execution_count": null,
   "id": "efab27fb-d9e5-4d8d-b222-03921706c15a",
   "metadata": {},
   "outputs": [],
   "source": [
    "#def evaluate_model(X, y, set_name):\n",
    "#    predictions = xgb_regressor_trimmed.predict(X)\n",
    "#    mse = mean_squared_error(y, predictions)\n",
    "#    rmse = np.sqrt(mse)\n",
    "#    r2 = r2_score(y, predictions)\n",
    "#    print(f\"\\n{set_name} Metrics:\")\n",
    "#    print(f\"MSE: {mse:.2f}\")\n",
    "#    print(f\"RMSE: {rmse:.2f}\")\n",
    "#   print(f\"R2: {r2:.4f}\")\n",
    "#    return predictions\n",
    "\n",
    "# Evaluate on all sets\n",
    "#train_pred = evaluate_model(train_features_trimmed, y_train, \"Training\")\n",
    "#val_pred = evaluate_model(validation_features_trimmed, y_validation, \"Validation\")\n",
    "#test_pred = evaluate_model(test_features_trimmed, y_test, \"Test\")\n",
    "\n",
    "# Create the time series plot\n",
    "#plt.figure(figsize=(15, 5))\n",
    "\n",
    "# Plot training data and predictions\n",
    "#plt.plot(y_train.index, y_train.values, label='Actual (Train)', alpha=0.5)\n",
    "#plt.plot(y_train.index, train_pred, label='Predicted (Train)', alpha=0.5)\n",
    "\n",
    "# Plot validation data and predictions\n",
    "#plt.plot(y_validation.index, y_validation.values, label='Actual (Val)', alpha=0.5)\n",
    "#plt.plot(y_validation.index, val_pred, label='Predicted (Val)', alpha=0.5)\n",
    "\n",
    "# Plot test data and predictions\n",
    "#plt.plot(y_test.index, y_test.values, label='Actual (Test)', alpha=0.5)\n",
    "#plt.plot(y_test.index, test_pred, label='Predicted (Test)', alpha=0.5)\n",
    "\n",
    "# Customize the plot\n",
    "#plt.title('PM2.5 Predictions vs Actual')\n",
    "#plt.xlabel('Date')\n",
    "#plt.ylabel('PM2.5')\n",
    "#plt.legend(bbox_to_anchor=(1.05, 1), loc='upper left')\n",
    "#plt.tight_layout()\n",
    "#plt.show()\n",
    "\n",
    "# Optional: Add feature importance plot\n",
    "#importance_df = pd.DataFrame({\n",
    "#    'feature': train_features_trimmed.columns,\n",
    "#    'importance': xgb_regressor_trimmed.feature_importances_\n",
    "#}).sort_values('importance', ascending=False)\n",
    "\n",
    "#plt.figure(figsize=(10, 4))\n",
    "#plt.bar(range(len(importance_df['importance'][:10])), importance_df['importance'][:10])\n",
    "#plt.xticks(range(len(importance_df['feature'][:10])), importance_df['feature'][:10], rotation=45, ha='right')\n",
    "#plt.title('Top 10 Feature Importance')\n",
    "#plt.tight_layout()\n",
    "#plt.show()\n"
   ]
  },
  {
   "cell_type": "code",
   "execution_count": null,
   "id": "f33a8418",
   "metadata": {},
   "outputs": [],
   "source": [
    "df = y_test\n",
    "df['predicted_pm25'] = y_pred"
   ]
  },
  {
   "cell_type": "code",
   "execution_count": null,
   "id": "9ea1f4ac",
   "metadata": {},
   "outputs": [],
   "source": [
    "df['date'] = X_test['date']\n",
    "df = df.sort_values(by=['date'])\n",
    "df.head(5)"
   ]
  },
  {
   "cell_type": "code",
   "execution_count": null,
   "id": "3100f9a8",
   "metadata": {},
   "outputs": [],
   "source": [
    "# Creating a directory for the model artifacts if it doesn't exist\n",
    "model_dir = \"air_quality_model_improved\"\n",
    "if not os.path.exists(model_dir):\n",
    "    os.mkdir(model_dir)\n",
    "images_dir = model_dir + \"/images\"\n",
    "if not os.path.exists(images_dir):\n",
    "    os.mkdir(images_dir)"
   ]
  },
  {
   "cell_type": "code",
   "execution_count": null,
   "id": "c4485b41",
   "metadata": {},
   "outputs": [],
   "source": [
    "file_path = images_dir + \"/pm25_hindcast.png\"\n",
    "plt = util.plot_air_quality_forecast(city, street, df, file_path, hindcast=True) \n",
    "plt.show()"
   ]
  },
  {
   "cell_type": "code",
   "execution_count": null,
   "id": "38888e42",
   "metadata": {
    "tags": []
   },
   "outputs": [],
   "source": [
    "# Plotting feature importances using the plot_importance function from XGBoost\n",
    "plot_importance(xgb_regressor, max_num_features=10)\n",
    "feature_importance_path = images_dir + \"/feature_importance.png\"\n",
    "plt.savefig(feature_importance_path)\n",
    "plt.show()"
   ]
  },
  {
   "cell_type": "markdown",
   "id": "378c69ae",
   "metadata": {},
   "source": [
    "---"
   ]
  },
  {
   "cell_type": "markdown",
   "id": "1b177983",
   "metadata": {
    "tags": []
   },
   "source": [
    "## <span style='color:#ff5f27'>🗄 Model Registry</span>\n",
    "\n",
    "One of the features in Hopsworks is the model registry. This is where you can store different versions of models and compare their performance. Models from the registry can then be served as API endpoints."
   ]
  },
  {
   "cell_type": "markdown",
   "id": "db096e82",
   "metadata": {},
   "source": [
    "### <span style=\"color:#ff5f27;\">⚙️ Model Schema</span>"
   ]
  },
  {
   "cell_type": "markdown",
   "id": "82881cab",
   "metadata": {},
   "source": [
    "The model needs to be set up with a [Model Schema](https://docs.hopsworks.ai/machine-learning-api/latest/generated/model_schema/), which describes the inputs and outputs for a model.\n",
    "\n",
    "A Model Schema can be automatically generated from training examples, as shown below."
   ]
  },
  {
   "cell_type": "code",
   "execution_count": null,
   "id": "271f1ca2",
   "metadata": {
    "scrolled": true
   },
   "outputs": [],
   "source": [
    "from hsml.schema import Schema\n",
    "from hsml.model_schema import ModelSchema\n",
    "\n",
    "# Creating input and output schemas using the 'Schema' class for features (X) and target variable (y)\n",
    "input_schema = Schema(X_train)\n",
    "output_schema = Schema(y_train)\n",
    "\n",
    "# Creating a model schema using 'ModelSchema' with the input and output schemas\n",
    "model_schema = ModelSchema(input_schema=input_schema, output_schema=output_schema)\n",
    "\n",
    "# Converting the model schema to a dictionary representation\n",
    "schema_dict = model_schema.to_dict()"
   ]
  },
  {
   "cell_type": "code",
   "execution_count": null,
   "id": "011e3fad",
   "metadata": {
    "scrolled": true
   },
   "outputs": [],
   "source": [
    "# Saving the XGBoost regressor object as a json file in the model directory\n",
    "xgb_regressor.save_model(model_dir + \"/model.json\")"
   ]
  },
  {
   "cell_type": "code",
   "execution_count": null,
   "id": "549b4785",
   "metadata": {},
   "outputs": [],
   "source": [
    "res_dict = { \n",
    "        \"MSE\": str(mse),\n",
    "        \"R squared\": str(r2),\n",
    "    }"
   ]
  },
  {
   "cell_type": "code",
   "execution_count": null,
   "id": "81434864",
   "metadata": {},
   "outputs": [],
   "source": [
    "mr = project.get_model_registry()\n",
    "\n",
    "# Creating a Python model in the model registry named 'air_quality_xgboost_model'\n",
    "\n",
    "aq_model = mr.python.create_model(\n",
    "    name=\"air_quality_xgboost_model_improved\", \n",
    "    metrics= res_dict,\n",
    "    model_schema=model_schema,\n",
    "    input_example=X_test.sample().values, \n",
    "    description=\"Air Quality (PM2.5) predictor\",\n",
    ")\n",
    "\n",
    "# Saving the model artifacts to the 'air_quality_model' directory in the model registry\n",
    "aq_model.save(model_dir)"
   ]
  },
  {
   "cell_type": "markdown",
   "id": "ae3b3088",
   "metadata": {},
   "source": [
    "---\n",
    "## <span style=\"color:#ff5f27;\">⏭️ **Next:** Part 04: Batch Inference</span>\n",
    "\n",
    "In the following notebook you will use your model for Batch Inference.\n"
   ]
  },
  {
   "cell_type": "code",
   "execution_count": null,
   "id": "f3dd9154",
   "metadata": {},
   "outputs": [],
   "source": []
  }
 ],
 "metadata": {
  "kernelspec": {
   "display_name": "Python 3 (ipykernel)",
   "language": "python",
   "name": "python3"
  },
  "language_info": {
   "codemirror_mode": {
    "name": "ipython",
    "version": 3
   },
   "file_extension": ".py",
   "mimetype": "text/x-python",
   "name": "python",
   "nbconvert_exporter": "python",
   "pygments_lexer": "ipython3",
   "version": "3.12.3"
  },
  "vscode": {
   "interpreter": {
    "hash": "63265f9757e7c73c149a91832e3b2b12ced37a5390b9151ad08a04f276cd5846"
   }
  }
 },
 "nbformat": 4,
 "nbformat_minor": 5
}
